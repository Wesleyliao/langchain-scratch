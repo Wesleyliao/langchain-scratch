{
 "cells": [
  {
   "cell_type": "code",
   "execution_count": 3,
   "metadata": {},
   "outputs": [],
   "source": [
    "from __future__ import print_function\n",
    "\n",
    "import argparse\n",
    "import contextlib\n",
    "import datetime\n",
    "import os\n",
    "import six\n",
    "import sys\n",
    "import time\n",
    "import unicodedata\n",
    "import dropbox"
   ]
  },
  {
   "cell_type": "code",
   "execution_count": 4,
   "metadata": {},
   "outputs": [],
   "source": [
    "dbx = dropbox.Dropbox(\"\")"
   ]
  },
  {
   "cell_type": "code",
   "execution_count": 33,
   "metadata": {},
   "outputs": [
    {
     "data": {
      "text/plain": [
       "FolderMetadata(id='id:odNPG6SYAUcAAAAAAAAACA', name='Test Folder', parent_shared_folder_id=NOT_SET, path_display='/Test Folder', path_lower='/test folder', preview_url=NOT_SET, property_groups=NOT_SET, shared_folder_id=NOT_SET, sharing_info=NOT_SET)"
      ]
     },
     "execution_count": 33,
     "metadata": {},
     "output_type": "execute_result"
    }
   ],
   "source": [
    "dbx.files_list_folder(\"\").entries[0]"
   ]
  },
  {
   "cell_type": "code",
   "execution_count": 5,
   "metadata": {},
   "outputs": [
    {
     "data": {
      "text/plain": [
       "[{'path': '/Test Folder', 'type': 'folder'},\n",
       " {'path': '/New Folder 1', 'type': 'folder'},\n",
       " {'path': '/AIMA 3rd Edition.pdf', 'type': 'file'},\n",
       " {'path': '/Test Folder/RLbook2018.pdf', 'type': 'file'},\n",
       " {'path': '/Test Folder/Machine-Learning-Tom-Mitchell.pdf', 'type': 'file'},\n",
       " {'path': '/notes.rtf', 'type': 'file'}]"
      ]
     },
     "execution_count": 5,
     "metadata": {},
     "output_type": "execute_result"
    }
   ],
   "source": [
    "from dropbox.files import FolderMetadata\n",
    "[dict(path=entry.path_display, type=\"folder\" if isinstance(entry, FolderMetadata) else \"file\") for entry in dbx.files_list_folder(\"\", recursive=True).entries]"
   ]
  },
  {
   "cell_type": "code",
   "execution_count": 25,
   "metadata": {},
   "outputs": [
    {
     "data": {
      "text/plain": [
       "RelocationResult(metadata=FileMetadata(client_modified=datetime.datetime(2023, 3, 25, 4, 56, 52), content_hash='52b7952fc194620065783c33786f97f69417efcf7cf1c1fd3314f2ae4c9a2167', export_info=NOT_SET, file_lock_info=NOT_SET, has_explicit_shared_members=NOT_SET, id='id:odNPG6SYAUcAAAAAAAAABg', is_downloadable=True, media_info=NOT_SET, name='Machine-Learning-Tom-Mitchell.pdf', parent_shared_folder_id=NOT_SET, path_display='/Test Folder/Machine-Learning-Tom-Mitchell.pdf', path_lower='/test folder/machine-learning-tom-mitchell.pdf', preview_url=NOT_SET, property_groups=NOT_SET, rev='5f7bb5bee378fe00b2ce1', server_modified=datetime.datetime(2023, 3, 25, 15, 42, 36), sharing_info=NOT_SET, size=38797365, symlink_info=NOT_SET))"
      ]
     },
     "execution_count": 25,
     "metadata": {},
     "output_type": "execute_result"
    }
   ],
   "source": [
    "dbx.files_move_v2('/AIMA 3rd Edition.pdf', '/Test Folder/Machine-Learning-Tom-Mitchell.pdf')"
   ]
  },
  {
   "cell_type": "code",
   "execution_count": 30,
   "metadata": {},
   "outputs": [
    {
     "data": {
      "text/plain": [
       "FolderMetadata(id='id:odNPG6SYAUcAAAAAAAAACw', name='New Folder 1', parent_shared_folder_id=NOT_SET, path_display='/New Folder 1', path_lower='/new folder 1', preview_url=NOT_SET, property_groups=NOT_SET, shared_folder_id=NOT_SET, sharing_info=NOT_SET)"
      ]
     },
     "execution_count": 30,
     "metadata": {},
     "output_type": "execute_result"
    }
   ],
   "source": [
    "dbx.files_create_folder('/New Folder 1')"
   ]
  },
  {
   "cell_type": "code",
   "execution_count": null,
   "metadata": {},
   "outputs": [],
   "source": []
  }
 ],
 "metadata": {
  "kernelspec": {
   "display_name": "langchain-scratch",
   "language": "python",
   "name": "python3"
  },
  "language_info": {
   "codemirror_mode": {
    "name": "ipython",
    "version": 3
   },
   "file_extension": ".py",
   "mimetype": "text/x-python",
   "name": "python",
   "nbconvert_exporter": "python",
   "pygments_lexer": "ipython3",
   "version": "3.9.16"
  },
  "orig_nbformat": 4
 },
 "nbformat": 4,
 "nbformat_minor": 2
}
