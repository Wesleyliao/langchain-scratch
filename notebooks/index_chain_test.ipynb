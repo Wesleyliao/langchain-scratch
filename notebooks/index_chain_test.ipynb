{
 "cells": [
  {
   "cell_type": "code",
   "execution_count": 8,
   "metadata": {},
   "outputs": [
    {
     "data": {
      "text/plain": [
       "True"
      ]
     },
     "execution_count": 8,
     "metadata": {},
     "output_type": "execute_result"
    }
   ],
   "source": [
    "import os\n",
    "\n",
    "import openai\n",
    "from dotenv import load_dotenv\n",
    "from llama_index import SimpleWebPageReader, GPTSimpleVectorIndex\n",
    "from langchain import OpenAI\n",
    "from langchain.agents import initialize_agent, Tool\n",
    "\n",
    "# Load env variables\n",
    "load_dotenv()"
   ]
  },
  {
   "cell_type": "code",
   "execution_count": 3,
   "metadata": {},
   "outputs": [],
   "source": [
    "url = \"https://en.wikipedia.org/wiki/Calculus\"\n",
    "docs = SimpleWebPageReader(html_to_text=True).load_data([url])"
   ]
  },
  {
   "cell_type": "code",
   "execution_count": 5,
   "metadata": {},
   "outputs": [
    {
     "name": "stderr",
     "output_type": "stream",
     "text": [
      "INFO:root:> [build_index_from_documents] Total LLM token usage: 0 tokens\n",
      "INFO:root:> [build_index_from_documents] Total embedding token usage: 67384 tokens\n"
     ]
    }
   ],
   "source": [
    "index = GPTSimpleVectorIndex(docs)"
   ]
  },
  {
   "cell_type": "code",
   "execution_count": 12,
   "metadata": {},
   "outputs": [
    {
     "name": "stderr",
     "output_type": "stream",
     "text": [
      "INFO:root:> [query] Total LLM token usage: 4077 tokens\n",
      "INFO:root:> [query] Total embedding token usage: 6 tokens\n"
     ]
    }
   ],
   "source": [
    "def querying_db(query: str):\n",
    "    response = index.query(query)\n",
    "    return response\n",
    "\n",
    "tools = [\n",
    "    Tool(\n",
    "        name = \"QueryingDB\",\n",
    "        func=querying_db,\n",
    "        description=\"This function takes a query string as input and returns the most relevant answer from the documentation as output\"\n",
    "    )]\n",
    "llm = OpenAI(temperature=0.1)\n",
    "\n",
    "query_string = \"What was Leibniz's contribution?\"\n",
    "\n",
    "agent = initialize_agent(tools, llm, agent=\"zero-shot-react-description\")\n",
    "result = agent.run(query_string)"
   ]
  },
  {
   "cell_type": "code",
   "execution_count": 13,
   "metadata": {},
   "outputs": [
    {
     "data": {
      "text/plain": [
       "\"Leibniz's contribution to calculus was to provide a clear set of rules for working with infinitesimal quantities, allowing the computation of second and higher derivatives, and providing the product rule and chain rule, in their differential and integral forms. He also gave the new discipline its name.\""
      ]
     },
     "execution_count": 13,
     "metadata": {},
     "output_type": "execute_result"
    }
   ],
   "source": [
    "result"
   ]
  }
 ],
 "metadata": {
  "kernelspec": {
   "display_name": "langchain-scratch",
   "language": "python",
   "name": "python3"
  },
  "language_info": {
   "codemirror_mode": {
    "name": "ipython",
    "version": 3
   },
   "file_extension": ".py",
   "mimetype": "text/x-python",
   "name": "python",
   "nbconvert_exporter": "python",
   "pygments_lexer": "ipython3",
   "version": "3.9.16"
  },
  "orig_nbformat": 4
 },
 "nbformat": 4,
 "nbformat_minor": 2
}
