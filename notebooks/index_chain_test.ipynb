{
 "cells": [
  {
   "cell_type": "code",
   "execution_count": 1,
   "metadata": {},
   "outputs": [
    {
     "data": {
      "text/plain": [
       "True"
      ]
     },
     "execution_count": 1,
     "metadata": {},
     "output_type": "execute_result"
    }
   ],
   "source": [
    "import os\n",
    "\n",
    "import openai\n",
    "from dotenv import load_dotenv\n",
    "from llama_index import SimpleWebPageReader, GPTSimpleVectorIndex\n",
    "from langchain import OpenAI\n",
    "from langchain.agents import initialize_agent, Tool\n",
    "\n",
    "# Load env variables\n",
    "load_dotenv()"
   ]
  },
  {
   "cell_type": "code",
   "execution_count": 2,
   "metadata": {},
   "outputs": [
    {
     "name": "stderr",
     "output_type": "stream",
     "text": [
      "INFO:root:> [build_index_from_documents] Total LLM token usage: 0 tokens\n",
      "INFO:root:> [build_index_from_documents] Total embedding token usage: 67384 tokens\n"
     ]
    }
   ],
   "source": [
    "url = \"https://en.wikipedia.org/wiki/Calculus\"\n",
    "docs = SimpleWebPageReader(html_to_text=True).load_data([url])\n",
    "index = GPTSimpleVectorIndex(docs)"
   ]
  },
  {
   "cell_type": "code",
   "execution_count": 3,
   "metadata": {},
   "outputs": [
    {
     "name": "stderr",
     "output_type": "stream",
     "text": [
      "INFO:root:> [query] Total LLM token usage: 4063 tokens\n",
      "INFO:root:> [query] Total embedding token usage: 9 tokens\n"
     ]
    },
    {
     "data": {
      "text/plain": [
       "Response(response=\"\\n\\nLeibniz's contribution was to provide a clear set of rules for working with infinitesimal quantities, allowing the computation of second and higher derivatives, and providing the product rule and chain rule, in their differential and integral forms. He also gave the new discipline its name, which can be used to take the derivative of any function whatsoever. His work also laid the foundation for Abraham Robinson's non-standard analysis, which uses technical machinery from mathematical logic to augment the real number system with infinitesimal and infinite numbers, resulting in hyperreal numbers.\", source_nodes=[SourceNode(source_text='\"Infinite series\")\\napproximations_.[15][16] However, they were not able to \"combine many\\ndiffering ideas under the two unifying themes of the\\n[derivative](/wiki/Derivative \"Derivative\") and the [integral](/wiki/Integral\\n\"Integral\"), show the connection between the two, and turn calculus into the\\ngreat problem-solving tool we have today\".[14]\\n\\n### Modern\\n\\n[Johannes Kepler](/wiki/Johannes_Kepler \"Johannes Kepler\")\\'s work\\n_Stereometrica Doliorum_ formed the basis of integral calculus.[17] Kepler\\ndeveloped a method to calculate the area of an ellipse by adding up the\\nlengths of many radii drawn from a focus of the ellipse.[18]\\n\\nA significant work was a treatise, the origin being Kepler\\'s methods,[18]\\nwritten by [Bonaventura Cavalieri](/wiki/Bonaventura_Cavalieri \"Bonaventura\\nCavalieri\"), who argued that volumes and areas should be computed as the sums\\nof the volumes and areas of infinitesimally thin cross-sections. The ideas\\nwere similar to Archimedes\\' in _[The\\nMethod](/wiki/The_Method_of_Mechanical_Theorems \"The Method of Mechanical\\nTheorems\")_ , but this treatise is believed to have been lost in the 13th\\ncentury, and was only rediscovered in the early 20th century, and so would\\nhave been unknown to Cavalieri. Cavalieri\\'s work was not well respected since\\nhis methods could lead to erroneous results, and the infinitesimal quantities\\nhe introduced were disreputable at first.\\n\\nThe formal study of calculus brought together Cavalieri\\'s infinitesimals with\\nthe [calculus of finite differences](/wiki/Calculus_of_finite_differences\\n\"Calculus of finite differences\") developed in Europe at around the same time.\\n[Pierre de Fermat](/wiki/Pierre_de_Fermat \"Pierre de Fermat\"), claiming that\\nhe borrowed from [Diophantus](/wiki/Diophantus \"Diophantus\"), introduced the\\nconcept of [adequality](/wiki/Adequality \"Adequality\"), which represented\\nequality up to an infinitesimal error term.[19] The combination was achieved\\nby [John Wallis](/wiki/John_Wallis \"John Wallis\"), [Isaac\\nBarrow](/wiki/Isaac_Barrow \"Isaac Barrow\"), and [James\\nGregory](/wiki/James_Gregory_\\\\(astronomer_and_mathematician\\\\) \"James Gregory\\n\\\\(astronomer and mathematician\\\\)\"), the latter two proving predecessors to the\\n[second fundamental theorem of calculus](/wiki/Fundamental_theorem_of_calculus\\n\"Fundamental theorem of calculus\") around 1670.[20][21]\\n\\nThe [product rule](/wiki/Product_rule \"Product rule\") and [chain\\nrule](/wiki/Chain_rule \"Chain rule\"),[22] the notions of [higher\\nderivatives](/wiki/Higher_derivative \"Higher derivative\") and [Taylor\\nseries](/wiki/Taylor_series \"Taylor series\"),[23] and of [analytic\\nfunctions](/wiki/Analytic_function \"Analytic function\")[24] were used by\\n[Isaac Newton](/wiki/Isaac_Newton \"Isaac Newton\") in an idiosyncratic notation\\nwhich he applied to solve problems of [mathematical\\nphysics](/wiki/Mathematical_physics \"Mathematical physics\"). In his works,\\nNewton rephrased his ideas to suit the mathematical idiom of the time,\\nreplacing calculations with infinitesimals by equivalent geometrical arguments\\nwhich were considered beyond reproach. He used the methods of calculus to\\nsolve the problem of planetary motion, the shape of the surface of a rotating\\nfluid, the oblateness of the earth, the motion of a weight sliding on a\\n[cycloid](/wiki/Cycloid \"Cycloid\"), and many other problems discussed in his\\n_[Principia\\nMathematica](/wiki/Philosophi%C3%A6_Naturalis_Principia_Mathematica\\n\"Philosophiæ Naturalis Principia Mathematica\")_ (1687). In other work, he\\ndeveloped series expansions for functions, including fractional and irrational\\npowers, and it was clear that he understood the principles of the [Taylor\\nseries](/wiki/Taylor_series \"Taylor series\"). He did not publish all these\\ndiscoveries, and at this time infinitesimal methods were still considered\\ndisreputable.[25]\\n\\n[![](//upload.wikimedia.org/wikipedia/commons/thumb/c/ce/Gottfried_Wilhelm_Leibniz%2C_Bernhard_Christoph_Francke.jpg/200px-\\nGottfried_Wilhelm_Leibniz%2C_Bernhard_Christoph_Francke.jpg)](/wiki/File:Gottfried_Wilhelm_Leibniz,_Bernhard_Christoph_Francke.jpg)\\n\\n[Gottfried Wilhelm Leibniz](/wiki/Gottfried_Wilhelm_Leibniz \"Gottfried Wilhelm\\nLeibniz\") was the first to state clearly the rules of calculus.\\n\\n[![](//upload.wikimedia.org/wikipedia/commons/thumb/3/39/GodfreyKneller-\\nIsaacNewton-1689.jpg/200px-GodfreyKneller-\\nIsaacNewton-1689.jpg)](/wiki/File:GodfreyKneller-IsaacNewton-1689.jpg)\\n\\n[Isaac Newton](/wiki/Isaac_Newton \"Isaac Newton\") developed the use of\\ncalculus in his [laws of motion](/wiki/Newton%27s_laws_of_motion \"Newton\\'s\\nlaws of motion\") and [gravitation](/wiki/Gravitation \"Gravitation\").\\n\\nThese ideas were arranged into a true calculus of infinitesimals by [Gottfried\\nWilhelm Leibniz](/wiki/Gottfried_Wilhelm_Leibniz \"Gottfried Wilhelm Leibniz\"),\\nwho was originally accused of [plagiarism](/wiki/Plagiarism \"Plagiarism\") by\\nNewton.[26] He is now regarded as an [independent\\ninventor](/wiki/Multiple_discovery \"Multiple discovery\") of and contributor to\\ncalculus. His contribution was to provide a clear set of rules for working\\nwith infinitesimal quantities, allowing the computation of second and higher\\nderivatives, and providing the [product rule](/wiki/Product_rule \"Product\\nrule\") and [chain rule](/wiki/Chain_rule \"Chain rule\"), in their differential\\nand integral forms. Unlike Newton, Leibniz put painstaking effort into his\\nchoices of notation.[27]\\n\\nToday, Leibniz and Newton are usually both given credit for independently\\ninventing and developing calculus. Newton was the first to apply calculus to\\ngeneral [physics](/wiki/Physics \"Physics\") and Leibniz developed much of the\\nnotation used in calculus today.[28]: 51–52 The basic insights that both\\nNewton and Leibniz provided were the laws of differentiation and integration,\\nemphasizing that differentiation and integration are inverse processes, second\\nand higher derivatives, and the notion of an approximating polynomial series.\\n\\nWhen Newton and Leibniz first published their results, there was [great\\ncontroversy](/wiki/Newton_v._Leibniz_calculus_controversy \"Newton v. Leibniz\\ncalculus controversy\") over which mathematician (and therefore which country)\\ndeserved credit. Newton derived his results first (later to be published in\\nhis _[Method of Fluxions](/wiki/Method_of_Fluxions \"Method of Fluxions\")_ ),\\nbut Leibniz published his \"[Nova Methodus pro Maximis et\\nMinimis](/wiki/Nova_Methodus_pro_Maximis_et_Minimis \"Nova Methodus pro Maximis\\net Minimis\")\" first. Newton claimed Leibniz stole ideas from his unpublished\\nnotes, which Newton had shared with a few members of the [Royal\\nSociety](/wiki/Royal_Society \"Royal Society\"). This controversy divided\\nEnglish-speaking mathematicians from continental European mathematicians for\\nmany years, to the detriment of English mathematics.[29] A careful examination\\nof the papers of Leibniz and Newton shows that they arrived at their results\\nindependently, with Leibniz starting first with integration and Newton with\\ndifferentiation. It is Leibniz, however, who gave the new discipline its name.\\nNewton called his calculus \"[the science of fluxions](/wiki/Method_of_fluxions\\n\"Method of fluxions\")\", a term that endured in English schools into the 19th\\ncentury.[30]: 100 The first complete treatise on calculus to be written in\\nEnglish and use the Leibniz notation was not published until 1815.[31]\\n\\nSince the time of Leibniz and Newton, many mathematicians have contributed to\\nthe continuing development of calculus. One of the first and most complete\\nworks on both infinitesimal and [integral calculus](/wiki/Integral_calculus\\n\"Integral calculus\") was written in 1748 by [Maria Gaetana\\nAgnesi](/wiki/Maria_Gaetana_Agnesi \"Maria Gaetana Agnesi\").[32][33]\\n\\n[![](//upload.wikimedia.org/wikipedia/commons/thumb/5/57/Maria_Gaetana_Agnesi.jpg/150px-\\nMaria_Gaetana_Agnesi.jpg)](/wiki/File:Maria_Gaetana_Agnesi.jpg)\\n\\n[](/wiki/File:Maria_Gaetana_Agnesi.jpg \"Enlarge\")\\n\\n[Maria Gaetana Agnesi](/wiki/Maria_Gaetana_Agnesi \"Maria Gaetana Agnesi\")\\n\\n### Foundations\\n\\nIn calculus, _foundations_ refers to the\\n[rigorous](/wiki/Rigorous#Mathematical_rigour \"Rigorous\") development of the\\nsubject from [axioms](/wiki/Axiom \"Axiom\") and definitions. In early calculus\\nthe use of [infinitesimal](/wiki/Infinitesimal \"Infinitesimal\") quantities was\\nthought unrigorous, and was fiercely criticized by a number of authors, most\\nnotably [Michel Rolle](/wiki/Michel_Rolle \"Michel Rolle\") and [Bishop\\nBerkeley](/wiki/George_Berkeley \"George Berkeley\"). Berkeley famously\\ndescribed infinitesimals as the [ghosts of departed\\nquantities](/wiki/Ghosts_of_departed_quantities \"Ghosts of departed\\nquantities\") in his book _[The Analyst](/wiki/The_Analyst \"The Analyst\")_ in\\n1734. Working out a rigorous foundation for calculus occupied mathematicians\\nfor much of the century following Newton and Leibniz, and is still to some\\nextent an active area of research today.[34]\\n\\nSeveral mathematicians, including [Maclaurin](/wiki/Colin_Maclaurin \"Colin\\nMaclaurin\"), tried to prove the soundness of using infinitesimals, but it\\nwould not be until 150 years later when, due to the work of\\n[Cauchy](/wiki/Augustin-Louis_Cauchy \"Augustin-Louis Cauchy\") and\\n[Weierstrass](/wiki/Karl_Weierstrass \"Karl Weierstrass\"), a way was finally\\nfound to avoid mere \"notions\" of infinitely small quantities.[35] The\\nfoundations of differential and integral calculus had been laid. In Cauchy\\'s\\n_[Cours d\\'Analyse](/wiki/Cours_d%27Analyse \"Cours d\\'Analyse\")_ , we find a\\nbroad range of foundational approaches, including a definition of\\n[continuity](/wiki/Continuous_function \"Continuous function\") in terms of\\ninfinitesimals, and a (somewhat imprecise) prototype of an [(ε, δ)-definition\\nof limit](/wiki/\\\\(%CE%B5,_%CE%B4\\\\)-definition_of_limit \"\\\\(ε, δ\\\\)-definition of\\nlimit\") in the definition of differentiation.[36] In his work Weierstrass\\nformalized the concept of [limit](/wiki/Limit_of_a_function \"Limit of a\\nfunction\") and eliminated infinitesimals (although his definition can actually\\nvalidate [nilsquare](/wiki/Nilsquare \"Nilsquare\") infinitesimals). Following\\nthe work of Weierstrass, it eventually became common to base calculus on\\nlimits instead of infinitesimal quantities, though the subject is still\\noccasionally called \"infinitesimal calculus\". [Bernhard\\nRiemann](/wiki/Bernhard_Riemann \"Bernhard Riemann\") used these ideas to give a\\nprecise definition of the integral.[37] It was also during this period that\\nthe ideas of calculus were generalized to the [complex\\nplane](/wiki/Complex_plane \"Complex plane\") with the development of [complex\\nanalysis](/wiki/Complex_analysis \"Complex analysis\").[38]\\n\\nIn modern mathematics, the foundations of calculus are included in the field\\nof [real analysis](/wiki/Real_analysis \"Real analysis\"), which contains full\\ndefinitions and [proofs](/wiki/Mathematical_proof \"Mathematical proof\") of the\\ntheorems of calculus. The reach of calculus has also been greatly extended.\\n[Henri Lebesgue](/wiki/Henri_Lebesgue \"Henri Lebesgue\") invented [measure\\ntheory](/wiki/Measure_theory \"Measure theory\"), based on earlier developments\\nby [Émile Borel](/wiki/%C3%89mile_Borel \"Émile Borel\"), and used it to define\\nintegrals of all but the most\\n[pathological](/wiki/Pathological_\\\\(mathematics\\\\) \"Pathological\\n\\\\(mathematics\\\\)\") functions.[39] [Laurent Schwartz](/wiki/Laurent_Schwartz\\n\"Laurent Schwartz\") introduced\\n[distributions](/wiki/Distribution_\\\\(mathematics\\\\) \"Distribution\\n\\\\(mathematics\\\\)\"), which can be used to take the derivative of any function\\nwhatsoever.[40]\\n\\nLimits are not the only rigorous approach to the foundation of calculus.\\nAnother way is to use [Abraham Robinson](/wiki/Abraham_Robinson \"Abraham\\nRobinson\")\\'s [non-standard analysis](/wiki/Non-standard_analysis \"Non-standard\\nanalysis\"). Robinson\\'s approach, developed in the 1960s, uses technical\\nmachinery from [mathematical logic](/wiki/Mathematical_logic \"Mathematical\\nlogic\") to augment the real number system with\\n[infinitesimal](/wiki/Infinitesimal \"Infinitesimal\") and\\n[infinite](/wiki/Infinity \"Infinity\") numbers, as in the original Newton-\\nLeibniz conception. The resulting numbers are called [hyperreal\\nnumbers](/wiki/Hyperreal_number \"Hyperreal number\"), and', doc_id='64b9bbb2-1da9-479b-852b-41e5509f15f0', extra_info=None, node_info={'start': 35919, 'end': 48084}, similarity=0.8278032186337049)], extra_info=None)"
      ]
     },
     "execution_count": 3,
     "metadata": {},
     "output_type": "execute_result"
    }
   ],
   "source": [
    "index.query(\"What was Leibniz's contribution?\")"
   ]
  },
  {
   "cell_type": "code",
   "execution_count": 12,
   "metadata": {},
   "outputs": [
    {
     "name": "stderr",
     "output_type": "stream",
     "text": [
      "INFO:root:> [query] Total LLM token usage: 4077 tokens\n",
      "INFO:root:> [query] Total embedding token usage: 6 tokens\n"
     ]
    }
   ],
   "source": [
    "def querying_db(query: str):\n",
    "    response = index.query(query)\n",
    "    return response\n",
    "\n",
    "tools = [\n",
    "    Tool(\n",
    "        name = \"QueryingDB\",\n",
    "        func=querying_db,\n",
    "        description=\"This function takes a query string as input and returns the most relevant answer from the documentation as output\"\n",
    "    )]\n",
    "llm = OpenAI(temperature=0.1)\n",
    "\n",
    "query_string = \"What was Leibniz's contribution?\"\n",
    "\n",
    "agent = initialize_agent(tools, llm, agent=\"zero-shot-react-description\")\n",
    "result = agent.run(query_string)"
   ]
  },
  {
   "cell_type": "code",
   "execution_count": 13,
   "metadata": {},
   "outputs": [
    {
     "data": {
      "text/plain": [
       "\"Leibniz's contribution to calculus was to provide a clear set of rules for working with infinitesimal quantities, allowing the computation of second and higher derivatives, and providing the product rule and chain rule, in their differential and integral forms. He also gave the new discipline its name.\""
      ]
     },
     "execution_count": 13,
     "metadata": {},
     "output_type": "execute_result"
    }
   ],
   "source": [
    "result"
   ]
  }
 ],
 "metadata": {
  "kernelspec": {
   "display_name": "langchain-scratch",
   "language": "python",
   "name": "python3"
  },
  "language_info": {
   "codemirror_mode": {
    "name": "ipython",
    "version": 3
   },
   "file_extension": ".py",
   "mimetype": "text/x-python",
   "name": "python",
   "nbconvert_exporter": "python",
   "pygments_lexer": "ipython3",
   "version": "3.9.16"
  },
  "orig_nbformat": 4
 },
 "nbformat": 4,
 "nbformat_minor": 2
}
